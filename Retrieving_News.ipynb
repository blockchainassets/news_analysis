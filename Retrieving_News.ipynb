{
 "cells": [
  {
   "cell_type": "code",
   "execution_count": 1,
   "metadata": {},
   "outputs": [
    {
     "name": "stdout",
     "output_type": "stream",
     "text": [
      "Collecting newsapi-python\n",
      "  Downloading https://files.pythonhosted.org/packages/de/9e/9050199ac7cbc755d1c49577fdaa5517901124b574264b3602a8b8028440/newsapi_python-0.2.6-py2.py3-none-any.whl\n",
      "Requirement already satisfied: requests<3.0.0 in /anaconda3/lib/python3.7/site-packages (from newsapi-python) (2.22.0)\n",
      "Requirement already satisfied: chardet<3.1.0,>=3.0.2 in /anaconda3/lib/python3.7/site-packages (from requests<3.0.0->newsapi-python) (3.0.4)\n",
      "Requirement already satisfied: certifi>=2017.4.17 in /anaconda3/lib/python3.7/site-packages (from requests<3.0.0->newsapi-python) (2019.9.11)\n",
      "Requirement already satisfied: idna<2.9,>=2.5 in /anaconda3/lib/python3.7/site-packages (from requests<3.0.0->newsapi-python) (2.8)\n",
      "Requirement already satisfied: urllib3!=1.25.0,!=1.25.1,<1.26,>=1.21.1 in /anaconda3/lib/python3.7/site-packages (from requests<3.0.0->newsapi-python) (1.24.2)\n",
      "Installing collected packages: newsapi-python\n",
      "Successfully installed newsapi-python-0.2.6\n"
     ]
    }
   ],
   "source": [
    "! pip install newsapi-python"
   ]
  },
  {
   "cell_type": "code",
   "execution_count": 2,
   "metadata": {},
   "outputs": [],
   "source": [
    "from newsapi import NewsApiClient\n",
    "from datetime import date, timedelta"
   ]
  },
  {
   "cell_type": "code",
   "execution_count": 3,
   "metadata": {},
   "outputs": [],
   "source": [
    "newsapi = NewsApiClient(api_key='#####')"
   ]
  },
  {
   "cell_type": "code",
   "execution_count": 4,
   "metadata": {},
   "outputs": [],
   "source": [
    "sources_id = ''\n",
    "for source in newsapi.get_sources()['sources']:\n",
    "    if source['language'] == 'en':\n",
    "        sources_id = sources_id + source['id'] + ','"
   ]
  },
  {
   "cell_type": "code",
   "execution_count": 6,
   "metadata": {},
   "outputs": [],
   "source": [
    "# days = number of days from today to retreive headlines\n",
    "# qintitle = key words to look for in headlines\n",
    "# max_results = display a maximum number of news\n",
    "# sort_by = sort by date 'publishedAt', articles more closely related 'relevancy', popularity of source 'popularity'\n",
    "\n",
    "def latest_news(days = 1, qintitle='bitcoin', max_results = 10, sort_by = 'publishedAt'):\n",
    "    today = date.today().strftime(\"%Y-%m-%d\")\n",
    "    last_day = (date.today() - timedelta(days=days)).strftime(\"%Y-%m-%d\")\n",
    "    \n",
    "    all_articles = newsapi.get_everything(qintitle=qintitle,\n",
    "                                          sources=sources_id,\n",
    "                                          from_param=today,\n",
    "                                          to=last_day,\n",
    "                                          language='en',\n",
    "                                          sort_by=sort_by)\n",
    "    \n",
    "    count = 0\n",
    "    for article in all_articles['articles']:\n",
    "        if count < max_results:\n",
    "            source = article['source']\n",
    "            print('Date:', article['publishedAt'])\n",
    "            print('Source:', source['name'])\n",
    "            print('Title:', article['title'])\n",
    "            print('URL:', article['url'])\n",
    "            print('-'*100)\n",
    "            count+=1\n",
    "        else:\n",
    "            break"
   ]
  }
 ],
 "metadata": {
  "kernelspec": {
   "display_name": "Python 3",
   "language": "python",
   "name": "python3"
  },
  "language_info": {
   "codemirror_mode": {
    "name": "ipython",
    "version": 3
   },
   "file_extension": ".py",
   "mimetype": "text/x-python",
   "name": "python",
   "nbconvert_exporter": "python",
   "pygments_lexer": "ipython3",
   "version": "3.7.3"
  }
 },
 "nbformat": 4,
 "nbformat_minor": 2
}
