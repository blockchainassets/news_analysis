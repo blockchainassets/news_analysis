{
 "cells": [
  {
   "cell_type": "code",
   "execution_count": 1,
   "metadata": {},
   "outputs": [
    {
     "name": "stdout",
     "output_type": "stream",
     "text": [
      "importing Jupyter notebook from Retrieving_News.ipynb\n",
      "Requirement already satisfied: newsapi-python in /anaconda3/lib/python3.7/site-packages (0.2.6)\n",
      "Requirement already satisfied: requests<3.0.0 in /anaconda3/lib/python3.7/site-packages (from newsapi-python) (2.22.0)\n",
      "Requirement already satisfied: chardet<3.1.0,>=3.0.2 in /anaconda3/lib/python3.7/site-packages (from requests<3.0.0->newsapi-python) (3.0.4)\n",
      "Requirement already satisfied: urllib3!=1.25.0,!=1.25.1,<1.26,>=1.21.1 in /anaconda3/lib/python3.7/site-packages (from requests<3.0.0->newsapi-python) (1.24.2)\n",
      "Requirement already satisfied: certifi>=2017.4.17 in /anaconda3/lib/python3.7/site-packages (from requests<3.0.0->newsapi-python) (2019.9.11)\n",
      "Requirement already satisfied: idna<2.9,>=2.5 in /anaconda3/lib/python3.7/site-packages (from requests<3.0.0->newsapi-python) (2.8)\n"
     ]
    }
   ],
   "source": [
    "import import_ipynb\n",
    "from Retrieving_News import latest_news"
   ]
  },
  {
   "cell_type": "code",
   "execution_count": 2,
   "metadata": {},
   "outputs": [
    {
     "name": "stdout",
     "output_type": "stream",
     "text": [
      "Date: 2019-12-15T13:00:00Z\n",
      "Source: Business Insider\n",
      "Title: This 20-year-old Bitcoin millionaire beamed cryptocurrency from space to a school in Ghana\n",
      "URL: https://www.businessinsider.com/bitcoin-millionaire-erik-finman-beamed-cryptocurrency-satelite-outer-space-2019-11\n",
      "----------------------------------------------------------------------------------------------------\n",
      "Date: 2019-12-14T15:10:04Z\n",
      "Source: Crypto Coins News\n",
      "Title: How to Gain Extra Layer of Privacy While Spending Ethereum And Bitcoin\n",
      "URL: https://www.ccn.com/how-to-gain-extra-layer-of-privacy-while-spending-ethereum-and-bitcoin/\n",
      "----------------------------------------------------------------------------------------------------\n",
      "Date: 2019-12-13T16:26:54Z\n",
      "Source: Google News\n",
      "Title: Bitcoin and Gold Price Predictions: What’s a better long term bet?\n",
      "URL: http://feedproxy.google.com/~r/ValuewalkBusiness/~3/j-0WVNfYT_k/\n",
      "----------------------------------------------------------------------------------------------------\n",
      "Date: 2019-12-13T13:19:46Z\n",
      "Source: The Next Web\n",
      "Title: Russian dark web market Hydra wants $146M in Bitcoin to expand...\n",
      "URL: https://cc.thenextweb.com/post/189645263315/httpsthenextwebcomhardfork20191213bitcoin-hydra\n",
      "----------------------------------------------------------------------------------------------------\n",
      "Date: 2019-12-13T13:15:30Z\n",
      "Source: The Next Web\n",
      "Title: Russian dark web market Hydra wants $146M in Bitcoin to expand globally\n",
      "URL: https://thenextweb.com/hardfork/2019/12/13/bitcoin-hydra-dark-web-market-cryptocurrency-blockchain-initial-coin-offering-ico/\n",
      "----------------------------------------------------------------------------------------------------\n",
      "Date: 2019-12-13T11:27:58Z\n",
      "Source: Independent\n",
      "Title: Notorious dark web criminal makes $100k bitcoin price prediction from prison\n",
      "URL: https://www.independent.co.uk/life-style/gadgets-and-tech/news/bitcoin-price-prediction-latest-2020-ross-ulbricht-silk-road-cryptocurrency-a9242551.html\n",
      "----------------------------------------------------------------------------------------------------\n",
      "Date: 2019-12-12T19:01:31Z\n",
      "Source: Bloomberg\n",
      "Title: Bitcoin Whales Consolidation May Mean More Turbulence Ahead\n",
      "URL: https://www.bloomberg.com/news/articles/2019-12-12/bitcoin-whales-consolidation-may-mean-more-turbulence-ahead\n",
      "----------------------------------------------------------------------------------------------------\n",
      "Date: 2019-12-12T11:10:03Z\n",
      "Source: The Next Web\n",
      "Title: Satoshi Nakaboto: ‘66% of Bitcoin mining happens in China’\n",
      "URL: https://thenextweb.com/hardfork/2019/12/12/satoshi-nakaboto-66-of-bitcoin-mining-happens-in-china/\n",
      "----------------------------------------------------------------------------------------------------\n",
      "Date: 2019-12-12T10:52:44Z\n",
      "Source: The Next Web\n",
      "Title: Amazon Ring owners foil $400K Bitcoin extortion plot by removing...\n",
      "URL: https://cc.thenextweb.com/post/189625246160/httpsthenextwebcomhardfork20191212cryptocurrenc\n",
      "----------------------------------------------------------------------------------------------------\n",
      "Date: 2019-12-12T10:50:48Z\n",
      "Source: The Next Web\n",
      "Title: Amazon Ring owners foil $400K Bitcoin extortion plot by removing batteries\n",
      "URL: https://thenextweb.com/hardfork/2019/12/12/cryptocurrency-extortionists-bitcoin-ring-doorbell-cameras-ransom/\n",
      "----------------------------------------------------------------------------------------------------\n"
     ]
    }
   ],
   "source": [
    "latest_news(days=30, qintitle='bitcoin', max_results=10, sort_by='publishedAt')"
   ]
  },
  {
   "cell_type": "code",
   "execution_count": null,
   "metadata": {},
   "outputs": [],
   "source": []
  }
 ],
 "metadata": {
  "kernelspec": {
   "display_name": "Python 3",
   "language": "python",
   "name": "python3"
  },
  "language_info": {
   "codemirror_mode": {
    "name": "ipython",
    "version": 3
   },
   "file_extension": ".py",
   "mimetype": "text/x-python",
   "name": "python",
   "nbconvert_exporter": "python",
   "pygments_lexer": "ipython3",
   "version": "3.7.3"
  }
 },
 "nbformat": 4,
 "nbformat_minor": 2
}
